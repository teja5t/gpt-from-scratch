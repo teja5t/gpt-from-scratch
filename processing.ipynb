{
 "cells": [
  {
   "cell_type": "code",
   "execution_count": 1,
   "id": "fe882f5e",
   "metadata": {},
   "outputs": [
    {
     "name": "stdout",
     "output_type": "stream",
     "text": [
      "hi\n"
     ]
    }
   ],
   "source": [
    "import json\n",
    "print(\"hi\")\n",
    "\n",
    "with open('JEOPARDY_QUESTIONS1.json', 'r', encoding='utf-8') as f:\n",
    "    jeopardy_data = json.load(f)\n",
    "\n",
    "with open('jeopardy_qna.txt', 'w', encoding='utf-8') as out_file:\n",
    "    for item in jeopardy_data:\n",
    "        question = item.get('question', '').replace('\\n', ' ').strip()\n",
    "        answer = item.get('answer', '').replace('\\n', ' ').strip()\n",
    "        out_file.write(f\"Question: {question}\\nAnswer: {answer}\\n\")"
   ]
  }
 ],
 "metadata": {
  "kernelspec": {
   "display_name": ".venv",
   "language": "python",
   "name": "python3"
  },
  "language_info": {
   "codemirror_mode": {
    "name": "ipython",
    "version": 3
   },
   "file_extension": ".py",
   "mimetype": "text/x-python",
   "name": "python",
   "nbconvert_exporter": "python",
   "pygments_lexer": "ipython3",
   "version": "3.13.3"
  }
 },
 "nbformat": 4,
 "nbformat_minor": 5
}
