{
 "cells": [
  {
   "cell_type": "code",
   "execution_count": 3,
   "id": "01730635",
   "metadata": {},
   "outputs": [],
   "source": [
    "with open('input.txt', 'r', encoding='utf-8') as f:\n",
    "    text = f.read()"
   ]
  },
  {
   "cell_type": "code",
   "execution_count": 4,
   "id": "77b20d88",
   "metadata": {},
   "outputs": [
    {
     "name": "stdout",
     "output_type": "stream",
     "text": [
      "length: 1115394\n"
     ]
    }
   ],
   "source": [
    "print(f'length: {len(text)}')"
   ]
  },
  {
   "cell_type": "code",
   "execution_count": 6,
   "id": "bd328569",
   "metadata": {},
   "outputs": [
    {
     "name": "stdout",
     "output_type": "stream",
     "text": [
      "First Citizen:\n",
      "Before we proceed any further, hear me speak.\n",
      "\n",
      "All:\n",
      "Speak, speak.\n",
      "\n",
      "First Citizen:\n",
      "You\n"
     ]
    }
   ],
   "source": [
    "print(text[:100])"
   ]
  },
  {
   "cell_type": "code",
   "execution_count": 11,
   "id": "c11a6617",
   "metadata": {},
   "outputs": [
    {
     "name": "stdout",
     "output_type": "stream",
     "text": [
      "\n",
      " !$&',-.3:;?ABCDEFGHIJKLMNOPQRSTUVWXYZabcdefghijklmnopqrstuvwxyz\n",
      "vocab size: 65\n"
     ]
    }
   ],
   "source": [
    "chars = sorted(list(set(text)))\n",
    "vocab_size = len(chars)\n",
    "print(''.join(chars))\n",
    "print(f'vocab size: {vocab_size}')"
   ]
  },
  {
   "cell_type": "code",
   "execution_count": 14,
   "id": "a5fe8a34",
   "metadata": {},
   "outputs": [
    {
     "name": "stdout",
     "output_type": "stream",
     "text": [
      "[46, 43, 50, 50, 53, 1, 58, 46, 43, 56, 43, 8]\n",
      "hello there.\n"
     ]
    }
   ],
   "source": [
    "# create character to number encoder and decoder\n",
    "stoi = {ch: i for i, ch in enumerate(chars)}\n",
    "itos = {i: ch for i, ch in enumerate(chars)}\n",
    "\n",
    "def encode(s):\n",
    "    return [stoi[c] for c in s]\n",
    "\n",
    "def decode(indices):\n",
    "    return ''.join(itos[i] for i in indices)\n",
    "\n",
    "print(encode(\"hello there.\"))\n",
    "print(decode(encode(\"hello there.\")))"
   ]
  },
  {
   "cell_type": "code",
   "execution_count": 19,
   "id": "fc285763",
   "metadata": {},
   "outputs": [
    {
     "name": "stdout",
     "output_type": "stream",
     "text": [
      "torch.Size([1115394]) torch.int64\n",
      "tensor([18, 47, 56, 57, 58,  1, 15, 47, 58, 47, 64, 43, 52, 10,  0, 14, 43, 44,\n",
      "        53, 56, 43,  1, 61, 43,  1, 54, 56, 53, 41, 43, 43, 42,  1, 39, 52, 63,\n",
      "         1, 44, 59, 56, 58, 46, 43, 56,  6,  1, 46, 43, 39, 56,  1, 51, 43,  1,\n",
      "        57, 54, 43, 39, 49,  8,  0,  0, 13, 50, 50, 10,  0, 31, 54, 43, 39, 49,\n",
      "         6,  1, 57, 54, 43, 39, 49,  8,  0,  0, 18, 47, 56, 57, 58,  1, 15, 47,\n",
      "        58, 47, 64, 43, 52, 10,  0, 37, 53, 59])\n"
     ]
    }
   ],
   "source": [
    "import torch\n",
    "data = torch.tensor(encode(text), dtype = torch.long)\n",
    "print(data.shape, data.dtype)\n",
    "print(data[:100])"
   ]
  },
  {
   "cell_type": "code",
   "execution_count": 20,
   "id": "c5c8c64c",
   "metadata": {},
   "outputs": [],
   "source": [
    "n = int(0.9*len(data))\n",
    "train_data = data[:n]\n",
    "val_data = data[n:]"
   ]
  },
  {
   "cell_type": "code",
   "execution_count": 21,
   "id": "f837eaa9",
   "metadata": {},
   "outputs": [
    {
     "data": {
      "text/plain": [
       "tensor([18, 47, 56, 57, 58,  1, 15, 47, 58])"
      ]
     },
     "execution_count": 21,
     "metadata": {},
     "output_type": "execute_result"
    }
   ],
   "source": [
    "block_size = 8\n",
    "train_data[:block_size+1]"
   ]
  },
  {
   "cell_type": "code",
   "execution_count": 22,
   "id": "a7a44ebf",
   "metadata": {},
   "outputs": [
    {
     "name": "stdout",
     "output_type": "stream",
     "text": [
      "input: tensor([18]), target: 47\n",
      "input: tensor([18, 47]), target: 56\n",
      "input: tensor([18, 47, 56]), target: 57\n",
      "input: tensor([18, 47, 56, 57]), target: 58\n",
      "input: tensor([18, 47, 56, 57, 58]), target: 1\n",
      "input: tensor([18, 47, 56, 57, 58,  1]), target: 15\n",
      "input: tensor([18, 47, 56, 57, 58,  1, 15]), target: 47\n",
      "input: tensor([18, 47, 56, 57, 58,  1, 15, 47]), target: 58\n"
     ]
    }
   ],
   "source": [
    "x = train_data[:block_size]\n",
    "y = train_data[1:block_size+1]\n",
    "for t in range(block_size):\n",
    "    context = x[:t+1]\n",
    "    target = y[t]\n",
    "    print(f\"input: {context}, target: {target}\")"
   ]
  },
  {
   "cell_type": "code",
   "execution_count": 24,
   "id": "df1bd117",
   "metadata": {},
   "outputs": [
    {
     "name": "stdout",
     "output_type": "stream",
     "text": [
      "inputs: \n",
      "torch.Size([4, 8])\n",
      "tensor([[ 1, 58, 46, 39, 58,  1, 56, 43],\n",
      "        [42,  6,  1, 50, 47, 49, 43,  1],\n",
      "        [20, 17, 30, 25, 21, 27, 26, 17],\n",
      "        [41, 39, 56, 43, 11,  0, 18, 53]])\n",
      "targets:\n",
      "torch.Size([4, 8])\n",
      "tensor([[58, 46, 39, 58,  1, 56, 43, 41],\n",
      "        [ 6,  1, 50, 47, 49, 43,  1, 53],\n",
      "        [17, 30, 25, 21, 27, 26, 17, 10],\n",
      "        [39, 56, 43, 11,  0, 18, 53, 56]])\n",
      "input: tensor([1]), target: 58\n",
      "input: tensor([ 1, 58]), target: 46\n",
      "input: tensor([ 1, 58, 46]), target: 39\n",
      "input: tensor([ 1, 58, 46, 39]), target: 58\n",
      "input: tensor([ 1, 58, 46, 39, 58]), target: 1\n",
      "input: tensor([ 1, 58, 46, 39, 58,  1]), target: 56\n",
      "input: tensor([ 1, 58, 46, 39, 58,  1, 56]), target: 43\n",
      "input: tensor([ 1, 58, 46, 39, 58,  1, 56, 43]), target: 41\n",
      "input: tensor([42]), target: 6\n",
      "input: tensor([42,  6]), target: 1\n",
      "input: tensor([42,  6,  1]), target: 50\n",
      "input: tensor([42,  6,  1, 50]), target: 47\n",
      "input: tensor([42,  6,  1, 50, 47]), target: 49\n",
      "input: tensor([42,  6,  1, 50, 47, 49]), target: 43\n",
      "input: tensor([42,  6,  1, 50, 47, 49, 43]), target: 1\n",
      "input: tensor([42,  6,  1, 50, 47, 49, 43,  1]), target: 53\n",
      "input: tensor([20]), target: 17\n",
      "input: tensor([20, 17]), target: 30\n",
      "input: tensor([20, 17, 30]), target: 25\n",
      "input: tensor([20, 17, 30, 25]), target: 21\n",
      "input: tensor([20, 17, 30, 25, 21]), target: 27\n",
      "input: tensor([20, 17, 30, 25, 21, 27]), target: 26\n",
      "input: tensor([20, 17, 30, 25, 21, 27, 26]), target: 17\n",
      "input: tensor([20, 17, 30, 25, 21, 27, 26, 17]), target: 10\n",
      "input: tensor([41]), target: 39\n",
      "input: tensor([41, 39]), target: 56\n",
      "input: tensor([41, 39, 56]), target: 43\n",
      "input: tensor([41, 39, 56, 43]), target: 11\n",
      "input: tensor([41, 39, 56, 43, 11]), target: 0\n",
      "input: tensor([41, 39, 56, 43, 11,  0]), target: 18\n",
      "input: tensor([41, 39, 56, 43, 11,  0, 18]), target: 53\n",
      "input: tensor([41, 39, 56, 43, 11,  0, 18, 53]), target: 56\n"
     ]
    }
   ],
   "source": [
    "batch_size = 4\n",
    "block_size = 8\n",
    "\n",
    "def get_batch(split):\n",
    "    data = train_data if split == 'train' else val_data\n",
    "    ix = torch.randint(len(data) - block_size, (batch_size,))\n",
    "    x = torch.stack([data[i:i+block_size] for i in ix])\n",
    "    y = torch.stack([data[i+1:i+block_size+1] for i in ix])\n",
    "    return x, y\n",
    "\n",
    "xb, yb = get_batch('train')\n",
    "print('inputs: ')\n",
    "print(xb.shape)\n",
    "print(xb)\n",
    "print('targets:')\n",
    "print(yb.shape)\n",
    "print(yb)\n",
    "\n",
    "for b in range(batch_size):\n",
    "    for t in range(block_size):\n",
    "        context = xb[b][:t+1]\n",
    "        target = yb[b][t]\n",
    "        print(f\"input: {context}, target: {target}\")"
   ]
  },
  {
   "cell_type": "code",
   "execution_count": 26,
   "id": "6f7adb18",
   "metadata": {},
   "outputs": [
    {
     "name": "stdout",
     "output_type": "stream",
     "text": [
      "tensor([[ 1, 58, 46, 39, 58,  1, 56, 43],\n",
      "        [42,  6,  1, 50, 47, 49, 43,  1],\n",
      "        [20, 17, 30, 25, 21, 27, 26, 17],\n",
      "        [41, 39, 56, 43, 11,  0, 18, 53]])\n"
     ]
    }
   ],
   "source": [
    "print(xb)"
   ]
  },
  {
   "cell_type": "code",
   "execution_count": 42,
   "id": "3496b3fb",
   "metadata": {},
   "outputs": [
    {
     "name": "stdout",
     "output_type": "stream",
     "text": [
      "torch.Size([32, 65])\n",
      "tensor(5.0851, grad_fn=<NllLossBackward0>)\n",
      "\n",
      "J; vP'g.zcCxJbMHx!3aDo?!SyfgFx! HXWBnLw,3a&K$PWLSeDiRnh?QoMnhwUKOvkdUBidJngXWZ$GjvlcyuieAJ!dlCE3AJGc\n"
     ]
    }
   ],
   "source": [
    "import torch\n",
    "import torch.nn as nn\n",
    "from torch.nn import functional as F\n",
    "\n",
    "class BigramLanguageModel(nn.Module):\n",
    "    def __init__(self, vocab_size):\n",
    "        super().__init__()\n",
    "        self.token_embedding_table = nn.Embedding(vocab_size, vocab_size)\n",
    "        \n",
    "    def forward(self, idx, targets=None):\n",
    "        logits = self.token_embedding_table(idx)\n",
    "        if targets == None:\n",
    "            loss = None\n",
    "        else:\n",
    "            B, T, C = logits.shape\n",
    "            logits = logits.view(B*T, C)\n",
    "            targets = targets.view(B*T)\n",
    "            loss = F.cross_entropy(logits, targets)\n",
    "        return logits, loss\n",
    "    \n",
    "    def generate(self, idx, max_new_tokens):\n",
    "        for _ in range(max_new_tokens):\n",
    "            logits, loss = self(idx)\n",
    "            logits = logits[:, -1, :]\n",
    "            probs = F.softmax(logits, dim=-1)\n",
    "            idx_next = torch.multinomial(probs, num_samples=1)\n",
    "            idx = torch.cat((idx, idx_next), dim = 1)\n",
    "        return idx\n",
    "            \n",
    "    \n",
    "m = BigramLanguageModel(vocab_size)\n",
    "logits, loss = m(xb, yb)  \n",
    "print(logits.shape)\n",
    "print(loss)\n",
    "\n",
    "\n",
    "print(decode(m.generate(idx = torch.zeros((1, 1), dtype=torch.long), max_new_tokens=100)[0].tolist()))"
   ]
  },
  {
   "cell_type": "code",
   "execution_count": 46,
   "id": "b68b55b9",
   "metadata": {},
   "outputs": [],
   "source": [
    "optimizer = torch.optim.AdamW(m.parameters(), lr=1e-3)"
   ]
  },
  {
   "cell_type": "code",
   "execution_count": 62,
   "id": "17e32b4d",
   "metadata": {},
   "outputs": [
    {
     "name": "stdout",
     "output_type": "stream",
     "text": [
      "2.5213851928710938\n"
     ]
    }
   ],
   "source": [
    "batch_size = 32\n",
    "for steps in range(10000):\n",
    "    xb, yb = get_batch('train')\n",
    "    logits, loss = m(xb, yb)\n",
    "    optimizer.zero_grad(set_to_none=True)\n",
    "    loss.backward()\n",
    "    optimizer.step()\n",
    "print(loss.item())"
   ]
  },
  {
   "cell_type": "code",
   "execution_count": 65,
   "id": "8c212587",
   "metadata": {},
   "outputs": [
    {
     "name": "stdout",
     "output_type": "stream",
     "text": [
      "\n",
      "I at beredaven ireertiewnerinkin aleco Gon an: wicand, ff fe\n",
      "\n",
      "S:\n",
      "Purcheacadeepative?\n",
      "my hame w.\n",
      "Topu\n"
     ]
    }
   ],
   "source": [
    "print(decode(m.generate(idx = torch.zeros((1, 1), dtype=torch.long), max_new_tokens=100)[0].tolist()))"
   ]
  }
 ],
 "metadata": {
  "kernelspec": {
   "display_name": ".venv",
   "language": "python",
   "name": "python3"
  },
  "language_info": {
   "codemirror_mode": {
    "name": "ipython",
    "version": 3
   },
   "file_extension": ".py",
   "mimetype": "text/x-python",
   "name": "python",
   "nbconvert_exporter": "python",
   "pygments_lexer": "ipython3",
   "version": "3.13.3"
  }
 },
 "nbformat": 4,
 "nbformat_minor": 5
}
