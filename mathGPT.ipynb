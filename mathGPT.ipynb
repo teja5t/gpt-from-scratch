{
  "cells": [
    {
      "cell_type": "code",
      "execution_count": 165,
      "metadata": {
        "id": "4WbRBQfUuRAq"
      },
      "outputs": [],
      "source": [
        "import torch\n",
        "import torch.nn as nn\n",
        "from torch.nn import functional as F\n",
        "import random"
      ]
    },
    {
      "cell_type": "code",
      "execution_count": 166,
      "metadata": {
        "id": "XcM9bv-Qv--X"
      },
      "outputs": [],
      "source": [
        "batch_size = 64\n",
        "block_size = 100\n",
        "max_iters = 5001\n",
        "eval_interval = 500\n",
        "learning_rate = 1e-3\n",
        "device = 'cuda' if torch.cuda.is_available() else 'cpu'\n",
        "eval_iters = 200\n",
        "n_embed = 384\n",
        "n_head = 6\n",
        "n_layer = 6\n",
        "dropout = 0.2\n",
        "max_int = 1000"
      ]
    },
    {
      "cell_type": "code",
      "execution_count": 167,
      "metadata": {
        "id": "58DrC0Dlg_YN",
        "colab": {
          "base_uri": "https://localhost:8080/"
        },
        "outputId": "a0d1e391-1990-4632-b236-d0d3cf6e66cf"
      },
      "outputs": [
        {
          "output_type": "stream",
          "name": "stdout",
          "text": [
            "['\\n', ' ', '+', '0', '1', '2', '3', '4', '5', '6', '7', '8', '9', '=']\n"
          ]
        }
      ],
      "source": [
        "chars = sorted(list(['\\n', ' ', '+', '='] + [chr(i + 48) for i in range(10)]))\n",
        "print(chars)\n",
        "vocab_size = len(chars)\n",
        "stoi = {ch: i for i, ch in enumerate(chars)}\n",
        "itos = {i: ch for i, ch in enumerate(chars)}\n",
        "\n",
        "def encode(s):\n",
        "    return [stoi[c] for c in s]\n",
        "\n",
        "def decode(indices):\n",
        "    return ''.join(itos[i] for i in indices)\n",
        "\n",
        "@torch.no_grad()\n",
        "def estimate_loss():\n",
        "    out = {}\n",
        "    model.eval()\n",
        "    for split in ['train', 'val']:\n",
        "        losses = torch.zeros(eval_iters, device=device)\n",
        "        for k in range(eval_iters):\n",
        "            X, Y = get_batch(split)\n",
        "            logits, loss = model(X, Y)\n",
        "            losses[k] = loss.item()\n",
        "        out[split] = losses.mean()\n",
        "    model.train()\n",
        "    return out\n"
      ]
    },
    {
      "cell_type": "code",
      "execution_count": 168,
      "metadata": {
        "id": "JHri0DuphCIO",
        "colab": {
          "base_uri": "https://localhost:8080/"
        },
        "outputId": "8f055094-a7c3-4ed8-8c2f-f3de17b4296b"
      },
      "outputs": [
        {
          "output_type": "execute_result",
          "data": {
            "text/plain": [
              "(tensor([[11, 10,  7,  ...,  3,  3,  3],\n",
              "         [ 8,  5,  6,  ...,  3,  3,  3],\n",
              "         [ 5,  6,  6,  ...,  3,  3,  3],\n",
              "         ...,\n",
              "         [ 6,  4,  7,  ...,  3,  3,  3],\n",
              "         [11,  3,  7,  ...,  3,  3,  3],\n",
              "         [ 5,  8,  7,  ...,  3,  3,  3]], device='cuda:0'),\n",
              " tensor([[10,  7,  2,  ...,  3,  3,  0],\n",
              "         [ 5,  6,  2,  ...,  3,  3,  0],\n",
              "         [ 6,  6,  2,  ...,  3,  3,  0],\n",
              "         ...,\n",
              "         [ 4,  7,  2,  ...,  3,  3,  0],\n",
              "         [ 3,  7,  2,  ...,  3,  3,  0],\n",
              "         [ 8,  7,  2,  ...,  3,  3,  0]], device='cuda:0'))"
            ]
          },
          "metadata": {},
          "execution_count": 168
        }
      ],
      "source": [
        "def get_batch(split):\n",
        "    x = torch.empty(0, dtype=torch.long, device=device)\n",
        "    y = torch.empty(0, dtype=torch.long, device=device)\n",
        "\n",
        "    for _ in range(batch_size):\n",
        "        a = random.randint(0, max_int)\n",
        "        b = random.randint(0, max_int)\n",
        "        c = a + b\n",
        "\n",
        "        z = f\"{a}+{b}={str(c)[::-1]}\"\n",
        "        z = z + (block_size - len(z) - 1) * '0' + '\\n'\n",
        "        nx = torch.tensor([encode(z)[:-1]], dtype=torch.long, device=device)\n",
        "        ny = torch.tensor([encode(z)[1:]], dtype=torch.long, device=device)\n",
        "\n",
        "        x = torch.cat((x, nx), dim=0)\n",
        "        y = torch.cat((y, ny), dim=0)\n",
        "\n",
        "    return x, y\n",
        "\n",
        "get_batch('train')"
      ]
    },
    {
      "cell_type": "code",
      "execution_count": 169,
      "metadata": {
        "id": "Cx1ChM9muEuI"
      },
      "outputs": [],
      "source": [
        "class MultiHeadAttention(nn.Module):\n",
        "    def __init__(self, num_heads, head_size):\n",
        "        super().__init__()\n",
        "        # for every head have to set all the layers? how do i organize the layers?\n",
        "        #\n",
        "        self.num_heads = num_heads\n",
        "        self.keys = nn.ModuleList([nn.Linear(n_embed, head_size, bias=False) for _ in range(num_heads)])\n",
        "        self.queries = nn.ModuleList([nn.Linear(n_embed, head_size, bias=False) for _ in range(num_heads)])\n",
        "        self.values = nn.ModuleList([nn.Linear(n_embed, head_size, bias=False) for _ in range(num_heads)])\n",
        "        self.register_buffer('tril', torch.tril(torch.ones(block_size, block_size)))\n",
        "        self.proj = nn.Linear(n_embed, n_embed)\n",
        "        self.dropout = nn.Dropout(dropout)\n",
        "\n",
        "    def forward(self, x):\n",
        "        B,T,C = x.shape\n",
        "        heads = []\n",
        "\n",
        "        for i in range(self.num_heads):\n",
        "            k = self.keys[i](x)\n",
        "            q = self.queries[i](x)\n",
        "            wei = q @ k.transpose(-2, -1) * C**-0.5 #how much each letter corresponds to each other one\n",
        "            wei = wei.masked_fill(self.tril[:T, :T] == 0, float ('-inf'))\n",
        "            wei = F.softmax(wei, dim=-1)\n",
        "            wei = self.dropout(wei)\n",
        "            v = self.values[i](x)\n",
        "            heads.append(wei @ v)\n",
        "\n",
        "        out = torch.cat(heads, dim=-1)\n",
        "        out = self.proj(out) # Project the concatenated heads\n",
        "        out = self.dropout(out) # Apply dropout after projection\n",
        "        return out\n",
        "\n",
        "class FeedForward(nn.Module):\n",
        "    def __init__(self, n_embed):\n",
        "        super().__init__()\n",
        "        self.net = nn.Sequential(\n",
        "            nn.Linear(n_embed, 4 * n_embed),\n",
        "            nn.ReLU(),\n",
        "            nn.Linear(4 * n_embed, n_embed),\n",
        "            nn.Dropout(dropout)\n",
        "        )\n",
        "\n",
        "    def forward(self, x):\n",
        "        return self.net(x)\n",
        "\n",
        "class Block(nn.Module):\n",
        "    def __init__(self, n_embed, n_head):\n",
        "        super().__init__()\n",
        "        head_size = n_embed // n_head\n",
        "        self.sa = MultiHeadAttention(n_head, head_size)\n",
        "        self.ffwd = FeedForward(n_embed)\n",
        "        self.ln1 = nn.LayerNorm(n_embed)\n",
        "        self.ln2 = nn.LayerNorm(n_embed)\n",
        "\n",
        "    def forward(self, x):\n",
        "        x = x + self.sa(self.ln1(x))\n",
        "        x = x + self.ffwd(self.ln2(x))\n",
        "        return x\n",
        "\n",
        "class BigramLanguageModel(nn.Module):\n",
        "    def __init__(self):\n",
        "        super().__init__()\n",
        "        self.token_embedding_table = nn.Embedding(vocab_size, n_embed)\n",
        "        self.position_embedding_table = nn.Embedding(block_size, n_embed)\n",
        "        self.blocks = nn.Sequential(*[Block(n_embed, n_head=n_head) for _ in range(n_layer)])\n",
        "        self.ln_f = nn.LayerNorm(n_embed)\n",
        "        self.lm_head = nn.Linear(n_embed, vocab_size)\n",
        "\n",
        "    def forward(self, idx, targets=None):\n",
        "        B, T = idx.shape # B is batch, T is time\n",
        "        token_emb = self.token_embedding_table(idx) # (B, T, C)\n",
        "        pos_emb = self.position_embedding_table(torch.arange(T, device=device)) # (T, C)\n",
        "        x = token_emb + pos_emb # (B, T, C)\n",
        "        x = self.blocks(x)\n",
        "        logits = self.lm_head(x) # (B, T, vocab_size)\n",
        "\n",
        "        if targets == None:\n",
        "            loss = None\n",
        "        else:\n",
        "            B, T, C = logits.shape\n",
        "            logits = logits.view(B*T, C)\n",
        "            targets = targets.view(B*T)\n",
        "            loss = F.cross_entropy(logits, targets)\n",
        "        return logits, loss\n",
        "    @torch.no_grad()\n",
        "    def generate(self, idx, max_new_tokens):\n",
        "        for _ in range(max_new_tokens):\n",
        "            idx_cond = idx[:, -block_size:]\n",
        "            logits, loss = self(idx_cond)\n",
        "            logits = logits[:, -1, :]\n",
        "            probs = F.softmax(logits, dim=-1)\n",
        "            idx_next = torch.multinomial(probs, num_samples=1)\n",
        "            idx = torch.cat((idx, idx_next), dim = 1)\n",
        "        return idx\n",
        "    @torch.no_grad()\n",
        "    def solve(self, idx):\n",
        "      generated_tokens = []\n",
        "      while True:\n",
        "          idx_cond = idx[:, -block_size:]\n",
        "          logits, loss = self(idx_cond)\n",
        "          logits = logits[:, -1, :]\n",
        "          probs = F.softmax(logits, dim=-1)\n",
        "          idx_next = torch.multinomial(probs, num_samples=1)\n",
        "          idx = torch.cat((idx, idx_next), dim = 1)\n",
        "          generated_tokens.append(idx_next.item())\n",
        "          if idx_next.item() == stoi['\\n']:\n",
        "              break\n",
        "\n",
        "      # Decode and process the generated tokens\n",
        "      generated_string = decode(generated_tokens)\n",
        "\n",
        "      # Reverse the string\n",
        "      reversed_string = generated_string[::-1]\n",
        "      return reversed_string[3:].lstrip('0')"
      ]
    },
    {
      "cell_type": "code",
      "execution_count": 170,
      "metadata": {
        "colab": {
          "base_uri": "https://localhost:8080/"
        },
        "id": "fpjS4CXruM0q",
        "outputId": "5bef83d5-d05a-4788-a983-03f4d2a77cb7"
      },
      "outputs": [
        {
          "output_type": "stream",
          "name": "stdout",
          "text": [
            "step 0: train loss 1.2776, val loss 1.2768\n",
            "step 500: train loss 0.1898, val loss 0.1900\n",
            "step 1000: train loss 0.1421, val loss 0.1423\n",
            "step 1500: train loss 0.1248, val loss 0.1248\n",
            "step 2000: train loss 0.1219, val loss 0.1216\n",
            "step 2500: train loss 0.1197, val loss 0.1197\n",
            "step 3000: train loss 0.1195, val loss 0.1193\n",
            "step 3500: train loss 0.1196, val loss 0.1196\n",
            "step 4000: train loss 0.1195, val loss 0.1195\n",
            "step 4500: train loss 0.1193, val loss 0.1193\n",
            "step 5000: train loss 0.1195, val loss 0.1194\n"
          ]
        }
      ],
      "source": [
        "#train model\n",
        "model = BigramLanguageModel()\n",
        "m = model.to(device)\n",
        "optimizer = torch.optim.AdamW(m.parameters(), lr=1e-3)\n",
        "\n",
        "for iter in range(max_iters):\n",
        "    if iter % eval_interval == 0:\n",
        "        losses = estimate_loss()\n",
        "        print(f\"step {iter}: train loss {losses['train']:.4f}, val loss {losses['val']:.4f}\")\n",
        "\n",
        "    xb, yb = get_batch('train')\n",
        "\n",
        "    logits, loss = m(xb, yb)\n",
        "    optimizer.zero_grad(set_to_none=True)\n",
        "    loss.backward()\n",
        "    optimizer.step()"
      ]
    },
    {
      "cell_type": "code",
      "execution_count": 171,
      "metadata": {
        "id": "yowhIDb2uLed",
        "colab": {
          "base_uri": "https://localhost:8080/"
        },
        "outputId": "e188304a-d625-4dea-e1b4-6dd7a237ff3e"
      },
      "outputs": [
        {
          "output_type": "stream",
          "name": "stdout",
          "text": [
            "579\n"
          ]
        }
      ],
      "source": [
        "\n",
        "a = \"123\"\n",
        "b = \"456\"\n",
        "\n",
        "context = torch.tensor([encode(f\"{a}+{b}=\")], device=device)\n",
        "print(m.solve(context))\n",
        "\n"
      ]
    }
  ],
  "metadata": {
    "accelerator": "GPU",
    "colab": {
      "gpuType": "A100",
      "machine_shape": "hm",
      "provenance": []
    },
    "kernelspec": {
      "display_name": "Python 3",
      "name": "python3"
    },
    "language_info": {
      "name": "python"
    }
  },
  "nbformat": 4,
  "nbformat_minor": 0
}